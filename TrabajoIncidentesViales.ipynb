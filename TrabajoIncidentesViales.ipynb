{
  "cells": [
    {
      "cell_type": "code",
      "source": [
        "!pip install pyjanitor # Instalemos el módulo pyjanitor"
      ],
      "metadata": {
        "id": "Ry6DfLWyEvL2",
        "colab": {
          "base_uri": "https://localhost:8080/"
        },
        "outputId": "8a63f41b-42e6-440a-a77c-848a5d11efe7"
      },
      "id": "Ry6DfLWyEvL2",
      "execution_count": null,
      "outputs": [
        {
          "output_type": "stream",
          "name": "stdout",
          "text": [
            "Looking in indexes: https://pypi.org/simple, https://us-python.pkg.dev/colab-wheels/public/simple/\n",
            "Requirement already satisfied: pyjanitor in /usr/local/lib/python3.7/dist-packages (0.23.1)\n",
            "Requirement already satisfied: scipy in /usr/local/lib/python3.7/dist-packages (from pyjanitor) (1.7.3)\n",
            "Requirement already satisfied: pandas-flavor in /usr/local/lib/python3.7/dist-packages (from pyjanitor) (0.2.0)\n",
            "Requirement already satisfied: natsort in /usr/local/lib/python3.7/dist-packages (from pyjanitor) (5.5.0)\n",
            "Requirement already satisfied: multipledispatch in /usr/local/lib/python3.7/dist-packages (from pyjanitor) (0.6.0)\n",
            "Requirement already satisfied: six in /usr/local/lib/python3.7/dist-packages (from multipledispatch->pyjanitor) (1.15.0)\n",
            "Requirement already satisfied: xarray in /usr/local/lib/python3.7/dist-packages (from pandas-flavor->pyjanitor) (0.20.2)\n",
            "Requirement already satisfied: pandas in /usr/local/lib/python3.7/dist-packages (from pandas-flavor->pyjanitor) (1.3.5)\n",
            "Requirement already satisfied: pytz>=2017.3 in /usr/local/lib/python3.7/dist-packages (from pandas->pandas-flavor->pyjanitor) (2022.2.1)\n",
            "Requirement already satisfied: python-dateutil>=2.7.3 in /usr/local/lib/python3.7/dist-packages (from pandas->pandas-flavor->pyjanitor) (2.8.2)\n",
            "Requirement already satisfied: numpy>=1.17.3 in /usr/local/lib/python3.7/dist-packages (from pandas->pandas-flavor->pyjanitor) (1.21.6)\n",
            "Requirement already satisfied: importlib-metadata in /usr/local/lib/python3.7/dist-packages (from xarray->pandas-flavor->pyjanitor) (4.12.0)\n",
            "Requirement already satisfied: typing-extensions>=3.7 in /usr/local/lib/python3.7/dist-packages (from xarray->pandas-flavor->pyjanitor) (4.1.1)\n",
            "Requirement already satisfied: zipp>=0.5 in /usr/local/lib/python3.7/dist-packages (from importlib-metadata->xarray->pandas-flavor->pyjanitor) (3.8.1)\n"
          ]
        }
      ]
    },
    {
      "cell_type": "code",
      "execution_count": null,
      "id": "9df4f961",
      "metadata": {
        "id": "9df4f961"
      },
      "outputs": [],
      "source": [
        "import pandas as pd # Para importar Bases de Datos\n",
        "from matplotlib import pyplot as plt # Para realizar gráficos básicos\n",
        "from statsmodels.tsa.arima.model import ARIMA\n",
        "from janitor import clean_names\n",
        "import datetime"
      ]
    },
    {
      "cell_type": "markdown",
      "id": "583a22e8",
      "metadata": {
        "id": "583a22e8"
      },
      "source": [
        "__Paso 1:__ Comencemos importando una base de datos:"
      ]
    },
    {
      "cell_type": "markdown",
      "source": [
        "statsmodels.org"
      ],
      "metadata": {
        "id": "TX5Yk0ZWyZoe"
      },
      "id": "TX5Yk0ZWyZoe"
    },
    {
      "cell_type": "code",
      "execution_count": null,
      "id": "cd0a7adb",
      "metadata": {
        "id": "cd0a7adb"
      },
      "outputs": [],
      "source": [
        "datos = pd.read_csv(\"/Datos/incidentes_viales_motos.csv\", sep=\";\")"
      ]
    },
    {
      "cell_type": "code",
      "execution_count": null,
      "id": "009887e8",
      "metadata": {
        "id": "009887e8"
      },
      "outputs": [],
      "source": [
        "datos = clean_names(datos)"
      ]
    },
    {
      "cell_type": "code",
      "execution_count": null,
      "id": "ec9e3b88",
      "metadata": {
        "id": "ec9e3b88",
        "colab": {
          "base_uri": "https://localhost:8080/",
          "height": 206
        },
        "outputId": "355c6331-18a4-4da6-8a8d-ab75cb7ac0d2"
      },
      "outputs": [
        {
          "output_type": "execute_result",
          "data": {
            "text/plain": [
              "   nro_radicado  ano_incidente fecha_incidente hora_incidente clase_incidente  \\\n",
              "0       1473523           2015        27/01/15       22:00:00          Choque   \n",
              "1       1473525           2015        27/01/15       15:40:00          Choque   \n",
              "2       1473526           2015        27/01/15       18:00:00          Choque   \n",
              "3       1473527           2015        27/01/15        7:30:00            Otro   \n",
              "4       1473528           2015        27/01/15       15:00:00          Choque   \n",
              "\n",
              "  gravedad_incidente                    direccion             zona  \\\n",
              "0             HERIDO      Calle 30 Con Carrera 49  Jurisdicci\\xF3n   \n",
              "1             HERIDO  Calle 49 B Con Carrera 77 B        COMUNA 11   \n",
              "2             HERIDO    Calle 98 Con Carrera 51 A         COMUNA 4   \n",
              "3             HERIDO      Carrera 49 Con Calle 10        COMUNA 14   \n",
              "4             HERIDO      Carrera 30 Con Calle 11        COMUNA 14   \n",
              "\n",
              "     diseno_via  \n",
              "0       Tunel\\r  \n",
              "1  Tramo de via  \n",
              "2  Tramo de via  \n",
              "3  Tramo de via  \n",
              "4  Tramo de via  "
            ],
            "text/html": [
              "\n",
              "  <div id=\"df-cd1ecd5a-2cd5-4f84-8c14-2cbe095a1850\">\n",
              "    <div class=\"colab-df-container\">\n",
              "      <div>\n",
              "<style scoped>\n",
              "    .dataframe tbody tr th:only-of-type {\n",
              "        vertical-align: middle;\n",
              "    }\n",
              "\n",
              "    .dataframe tbody tr th {\n",
              "        vertical-align: top;\n",
              "    }\n",
              "\n",
              "    .dataframe thead th {\n",
              "        text-align: right;\n",
              "    }\n",
              "</style>\n",
              "<table border=\"1\" class=\"dataframe\">\n",
              "  <thead>\n",
              "    <tr style=\"text-align: right;\">\n",
              "      <th></th>\n",
              "      <th>nro_radicado</th>\n",
              "      <th>ano_incidente</th>\n",
              "      <th>fecha_incidente</th>\n",
              "      <th>hora_incidente</th>\n",
              "      <th>clase_incidente</th>\n",
              "      <th>gravedad_incidente</th>\n",
              "      <th>direccion</th>\n",
              "      <th>zona</th>\n",
              "      <th>diseno_via</th>\n",
              "    </tr>\n",
              "  </thead>\n",
              "  <tbody>\n",
              "    <tr>\n",
              "      <th>0</th>\n",
              "      <td>1473523</td>\n",
              "      <td>2015</td>\n",
              "      <td>27/01/15</td>\n",
              "      <td>22:00:00</td>\n",
              "      <td>Choque</td>\n",
              "      <td>HERIDO</td>\n",
              "      <td>Calle 30 Con Carrera 49</td>\n",
              "      <td>Jurisdicci\\xF3n</td>\n",
              "      <td>Tunel\\r</td>\n",
              "    </tr>\n",
              "    <tr>\n",
              "      <th>1</th>\n",
              "      <td>1473525</td>\n",
              "      <td>2015</td>\n",
              "      <td>27/01/15</td>\n",
              "      <td>15:40:00</td>\n",
              "      <td>Choque</td>\n",
              "      <td>HERIDO</td>\n",
              "      <td>Calle 49 B Con Carrera 77 B</td>\n",
              "      <td>COMUNA 11</td>\n",
              "      <td>Tramo de via</td>\n",
              "    </tr>\n",
              "    <tr>\n",
              "      <th>2</th>\n",
              "      <td>1473526</td>\n",
              "      <td>2015</td>\n",
              "      <td>27/01/15</td>\n",
              "      <td>18:00:00</td>\n",
              "      <td>Choque</td>\n",
              "      <td>HERIDO</td>\n",
              "      <td>Calle 98 Con Carrera 51 A</td>\n",
              "      <td>COMUNA 4</td>\n",
              "      <td>Tramo de via</td>\n",
              "    </tr>\n",
              "    <tr>\n",
              "      <th>3</th>\n",
              "      <td>1473527</td>\n",
              "      <td>2015</td>\n",
              "      <td>27/01/15</td>\n",
              "      <td>7:30:00</td>\n",
              "      <td>Otro</td>\n",
              "      <td>HERIDO</td>\n",
              "      <td>Carrera 49 Con Calle 10</td>\n",
              "      <td>COMUNA 14</td>\n",
              "      <td>Tramo de via</td>\n",
              "    </tr>\n",
              "    <tr>\n",
              "      <th>4</th>\n",
              "      <td>1473528</td>\n",
              "      <td>2015</td>\n",
              "      <td>27/01/15</td>\n",
              "      <td>15:00:00</td>\n",
              "      <td>Choque</td>\n",
              "      <td>HERIDO</td>\n",
              "      <td>Carrera 30 Con Calle 11</td>\n",
              "      <td>COMUNA 14</td>\n",
              "      <td>Tramo de via</td>\n",
              "    </tr>\n",
              "  </tbody>\n",
              "</table>\n",
              "</div>\n",
              "      <button class=\"colab-df-convert\" onclick=\"convertToInteractive('df-cd1ecd5a-2cd5-4f84-8c14-2cbe095a1850')\"\n",
              "              title=\"Convert this dataframe to an interactive table.\"\n",
              "              style=\"display:none;\">\n",
              "        \n",
              "  <svg xmlns=\"http://www.w3.org/2000/svg\" height=\"24px\"viewBox=\"0 0 24 24\"\n",
              "       width=\"24px\">\n",
              "    <path d=\"M0 0h24v24H0V0z\" fill=\"none\"/>\n",
              "    <path d=\"M18.56 5.44l.94 2.06.94-2.06 2.06-.94-2.06-.94-.94-2.06-.94 2.06-2.06.94zm-11 1L8.5 8.5l.94-2.06 2.06-.94-2.06-.94L8.5 2.5l-.94 2.06-2.06.94zm10 10l.94 2.06.94-2.06 2.06-.94-2.06-.94-.94-2.06-.94 2.06-2.06.94z\"/><path d=\"M17.41 7.96l-1.37-1.37c-.4-.4-.92-.59-1.43-.59-.52 0-1.04.2-1.43.59L10.3 9.45l-7.72 7.72c-.78.78-.78 2.05 0 2.83L4 21.41c.39.39.9.59 1.41.59.51 0 1.02-.2 1.41-.59l7.78-7.78 2.81-2.81c.8-.78.8-2.07 0-2.86zM5.41 20L4 18.59l7.72-7.72 1.47 1.35L5.41 20z\"/>\n",
              "  </svg>\n",
              "      </button>\n",
              "      \n",
              "  <style>\n",
              "    .colab-df-container {\n",
              "      display:flex;\n",
              "      flex-wrap:wrap;\n",
              "      gap: 12px;\n",
              "    }\n",
              "\n",
              "    .colab-df-convert {\n",
              "      background-color: #E8F0FE;\n",
              "      border: none;\n",
              "      border-radius: 50%;\n",
              "      cursor: pointer;\n",
              "      display: none;\n",
              "      fill: #1967D2;\n",
              "      height: 32px;\n",
              "      padding: 0 0 0 0;\n",
              "      width: 32px;\n",
              "    }\n",
              "\n",
              "    .colab-df-convert:hover {\n",
              "      background-color: #E2EBFA;\n",
              "      box-shadow: 0px 1px 2px rgba(60, 64, 67, 0.3), 0px 1px 3px 1px rgba(60, 64, 67, 0.15);\n",
              "      fill: #174EA6;\n",
              "    }\n",
              "\n",
              "    [theme=dark] .colab-df-convert {\n",
              "      background-color: #3B4455;\n",
              "      fill: #D2E3FC;\n",
              "    }\n",
              "\n",
              "    [theme=dark] .colab-df-convert:hover {\n",
              "      background-color: #434B5C;\n",
              "      box-shadow: 0px 1px 3px 1px rgba(0, 0, 0, 0.15);\n",
              "      filter: drop-shadow(0px 1px 2px rgba(0, 0, 0, 0.3));\n",
              "      fill: #FFFFFF;\n",
              "    }\n",
              "  </style>\n",
              "\n",
              "      <script>\n",
              "        const buttonEl =\n",
              "          document.querySelector('#df-cd1ecd5a-2cd5-4f84-8c14-2cbe095a1850 button.colab-df-convert');\n",
              "        buttonEl.style.display =\n",
              "          google.colab.kernel.accessAllowed ? 'block' : 'none';\n",
              "\n",
              "        async function convertToInteractive(key) {\n",
              "          const element = document.querySelector('#df-cd1ecd5a-2cd5-4f84-8c14-2cbe095a1850');\n",
              "          const dataTable =\n",
              "            await google.colab.kernel.invokeFunction('convertToInteractive',\n",
              "                                                     [key], {});\n",
              "          if (!dataTable) return;\n",
              "\n",
              "          const docLinkHtml = 'Like what you see? Visit the ' +\n",
              "            '<a target=\"_blank\" href=https://colab.research.google.com/notebooks/data_table.ipynb>data table notebook</a>'\n",
              "            + ' to learn more about interactive tables.';\n",
              "          element.innerHTML = '';\n",
              "          dataTable['output_type'] = 'display_data';\n",
              "          await google.colab.output.renderOutput(dataTable, element);\n",
              "          const docLink = document.createElement('div');\n",
              "          docLink.innerHTML = docLinkHtml;\n",
              "          element.appendChild(docLink);\n",
              "        }\n",
              "      </script>\n",
              "    </div>\n",
              "  </div>\n",
              "  "
            ]
          },
          "metadata": {},
          "execution_count": 31
        }
      ],
      "source": [
        "datos.head()"
      ]
    },
    {
      "cell_type": "code",
      "source": [
        "datos.dtypes"
      ],
      "metadata": {
        "colab": {
          "base_uri": "https://localhost:8080/"
        },
        "id": "Kw7TemFyzaZZ",
        "outputId": "daee2fa2-2b6d-4fb5-b987-ed5bc271d22b"
      },
      "id": "Kw7TemFyzaZZ",
      "execution_count": null,
      "outputs": [
        {
          "output_type": "execute_result",
          "data": {
            "text/plain": [
              "nro_radicado           int64\n",
              "ano_incidente          int64\n",
              "fecha_incidente       object\n",
              "hora_incidente        object\n",
              "clase_incidente       object\n",
              "gravedad_incidente    object\n",
              "direccion             object\n",
              "zona                  object\n",
              "diseno_via            object\n",
              "dtype: object"
            ]
          },
          "metadata": {},
          "execution_count": 32
        }
      ]
    },
    {
      "cell_type": "code",
      "execution_count": null,
      "id": "47c2604e",
      "metadata": {
        "scrolled": true,
        "id": "47c2604e",
        "colab": {
          "base_uri": "https://localhost:8080/",
          "height": 206
        },
        "outputId": "36549838-f417-48e8-93fe-a7d30fdc08c7"
      },
      "outputs": [
        {
          "output_type": "execute_result",
          "data": {
            "text/plain": [
              "        nro_radicado  ano_incidente fecha_incidente hora_incidente  \\\n",
              "223434       1759231           2021      25/08/2021       19:30:00   \n",
              "223435       1759324           2021      25/08/2021       19:50:00   \n",
              "223436       1759665           2021      25/08/2021       20:15:00   \n",
              "223437       1759743           2021      25/08/2021       20:25:00   \n",
              "223438       1759627           2021      25/08/2021       21:00:00   \n",
              "\n",
              "       clase_incidente gravedad_incidente                      direccion  \\\n",
              "223434  Caida Ocupante             HERIDO      Carrera 43 Con Calle 16 A   \n",
              "223435            Otro             HERIDO        Carrera 62 Con Calle 45   \n",
              "223436          Choque             HERIDO  Transversal 78 Con Calle 79 B   \n",
              "223437          Choque      SOLO DA\\xD1OS      Carrera 45 Con Calle 72 A   \n",
              "223438            Otro             HERIDO    Calle 48 DD Con Carrera 101   \n",
              "\n",
              "             zona      diseno_via  \n",
              "223434  COMUNA 14   Lote o Predio  \n",
              "223435  COMUNA 10   Lote o Predio  \n",
              "223436   COMUNA 5    Tramo de via  \n",
              "223437   COMUNA 4  Interseccion\\r  \n",
              "223438  COMUNA 13   Lote o Predio  "
            ],
            "text/html": [
              "\n",
              "  <div id=\"df-88a8dc87-3611-4a73-bf3d-33980cdc6135\">\n",
              "    <div class=\"colab-df-container\">\n",
              "      <div>\n",
              "<style scoped>\n",
              "    .dataframe tbody tr th:only-of-type {\n",
              "        vertical-align: middle;\n",
              "    }\n",
              "\n",
              "    .dataframe tbody tr th {\n",
              "        vertical-align: top;\n",
              "    }\n",
              "\n",
              "    .dataframe thead th {\n",
              "        text-align: right;\n",
              "    }\n",
              "</style>\n",
              "<table border=\"1\" class=\"dataframe\">\n",
              "  <thead>\n",
              "    <tr style=\"text-align: right;\">\n",
              "      <th></th>\n",
              "      <th>nro_radicado</th>\n",
              "      <th>ano_incidente</th>\n",
              "      <th>fecha_incidente</th>\n",
              "      <th>hora_incidente</th>\n",
              "      <th>clase_incidente</th>\n",
              "      <th>gravedad_incidente</th>\n",
              "      <th>direccion</th>\n",
              "      <th>zona</th>\n",
              "      <th>diseno_via</th>\n",
              "    </tr>\n",
              "  </thead>\n",
              "  <tbody>\n",
              "    <tr>\n",
              "      <th>223434</th>\n",
              "      <td>1759231</td>\n",
              "      <td>2021</td>\n",
              "      <td>25/08/2021</td>\n",
              "      <td>19:30:00</td>\n",
              "      <td>Caida Ocupante</td>\n",
              "      <td>HERIDO</td>\n",
              "      <td>Carrera 43 Con Calle 16 A</td>\n",
              "      <td>COMUNA 14</td>\n",
              "      <td>Lote o Predio</td>\n",
              "    </tr>\n",
              "    <tr>\n",
              "      <th>223435</th>\n",
              "      <td>1759324</td>\n",
              "      <td>2021</td>\n",
              "      <td>25/08/2021</td>\n",
              "      <td>19:50:00</td>\n",
              "      <td>Otro</td>\n",
              "      <td>HERIDO</td>\n",
              "      <td>Carrera 62 Con Calle 45</td>\n",
              "      <td>COMUNA 10</td>\n",
              "      <td>Lote o Predio</td>\n",
              "    </tr>\n",
              "    <tr>\n",
              "      <th>223436</th>\n",
              "      <td>1759665</td>\n",
              "      <td>2021</td>\n",
              "      <td>25/08/2021</td>\n",
              "      <td>20:15:00</td>\n",
              "      <td>Choque</td>\n",
              "      <td>HERIDO</td>\n",
              "      <td>Transversal 78 Con Calle 79 B</td>\n",
              "      <td>COMUNA 5</td>\n",
              "      <td>Tramo de via</td>\n",
              "    </tr>\n",
              "    <tr>\n",
              "      <th>223437</th>\n",
              "      <td>1759743</td>\n",
              "      <td>2021</td>\n",
              "      <td>25/08/2021</td>\n",
              "      <td>20:25:00</td>\n",
              "      <td>Choque</td>\n",
              "      <td>SOLO DA\\xD1OS</td>\n",
              "      <td>Carrera 45 Con Calle 72 A</td>\n",
              "      <td>COMUNA 4</td>\n",
              "      <td>Interseccion\\r</td>\n",
              "    </tr>\n",
              "    <tr>\n",
              "      <th>223438</th>\n",
              "      <td>1759627</td>\n",
              "      <td>2021</td>\n",
              "      <td>25/08/2021</td>\n",
              "      <td>21:00:00</td>\n",
              "      <td>Otro</td>\n",
              "      <td>HERIDO</td>\n",
              "      <td>Calle 48 DD Con Carrera 101</td>\n",
              "      <td>COMUNA 13</td>\n",
              "      <td>Lote o Predio</td>\n",
              "    </tr>\n",
              "  </tbody>\n",
              "</table>\n",
              "</div>\n",
              "      <button class=\"colab-df-convert\" onclick=\"convertToInteractive('df-88a8dc87-3611-4a73-bf3d-33980cdc6135')\"\n",
              "              title=\"Convert this dataframe to an interactive table.\"\n",
              "              style=\"display:none;\">\n",
              "        \n",
              "  <svg xmlns=\"http://www.w3.org/2000/svg\" height=\"24px\"viewBox=\"0 0 24 24\"\n",
              "       width=\"24px\">\n",
              "    <path d=\"M0 0h24v24H0V0z\" fill=\"none\"/>\n",
              "    <path d=\"M18.56 5.44l.94 2.06.94-2.06 2.06-.94-2.06-.94-.94-2.06-.94 2.06-2.06.94zm-11 1L8.5 8.5l.94-2.06 2.06-.94-2.06-.94L8.5 2.5l-.94 2.06-2.06.94zm10 10l.94 2.06.94-2.06 2.06-.94-2.06-.94-.94-2.06-.94 2.06-2.06.94z\"/><path d=\"M17.41 7.96l-1.37-1.37c-.4-.4-.92-.59-1.43-.59-.52 0-1.04.2-1.43.59L10.3 9.45l-7.72 7.72c-.78.78-.78 2.05 0 2.83L4 21.41c.39.39.9.59 1.41.59.51 0 1.02-.2 1.41-.59l7.78-7.78 2.81-2.81c.8-.78.8-2.07 0-2.86zM5.41 20L4 18.59l7.72-7.72 1.47 1.35L5.41 20z\"/>\n",
              "  </svg>\n",
              "      </button>\n",
              "      \n",
              "  <style>\n",
              "    .colab-df-container {\n",
              "      display:flex;\n",
              "      flex-wrap:wrap;\n",
              "      gap: 12px;\n",
              "    }\n",
              "\n",
              "    .colab-df-convert {\n",
              "      background-color: #E8F0FE;\n",
              "      border: none;\n",
              "      border-radius: 50%;\n",
              "      cursor: pointer;\n",
              "      display: none;\n",
              "      fill: #1967D2;\n",
              "      height: 32px;\n",
              "      padding: 0 0 0 0;\n",
              "      width: 32px;\n",
              "    }\n",
              "\n",
              "    .colab-df-convert:hover {\n",
              "      background-color: #E2EBFA;\n",
              "      box-shadow: 0px 1px 2px rgba(60, 64, 67, 0.3), 0px 1px 3px 1px rgba(60, 64, 67, 0.15);\n",
              "      fill: #174EA6;\n",
              "    }\n",
              "\n",
              "    [theme=dark] .colab-df-convert {\n",
              "      background-color: #3B4455;\n",
              "      fill: #D2E3FC;\n",
              "    }\n",
              "\n",
              "    [theme=dark] .colab-df-convert:hover {\n",
              "      background-color: #434B5C;\n",
              "      box-shadow: 0px 1px 3px 1px rgba(0, 0, 0, 0.15);\n",
              "      filter: drop-shadow(0px 1px 2px rgba(0, 0, 0, 0.3));\n",
              "      fill: #FFFFFF;\n",
              "    }\n",
              "  </style>\n",
              "\n",
              "      <script>\n",
              "        const buttonEl =\n",
              "          document.querySelector('#df-88a8dc87-3611-4a73-bf3d-33980cdc6135 button.colab-df-convert');\n",
              "        buttonEl.style.display =\n",
              "          google.colab.kernel.accessAllowed ? 'block' : 'none';\n",
              "\n",
              "        async function convertToInteractive(key) {\n",
              "          const element = document.querySelector('#df-88a8dc87-3611-4a73-bf3d-33980cdc6135');\n",
              "          const dataTable =\n",
              "            await google.colab.kernel.invokeFunction('convertToInteractive',\n",
              "                                                     [key], {});\n",
              "          if (!dataTable) return;\n",
              "\n",
              "          const docLinkHtml = 'Like what you see? Visit the ' +\n",
              "            '<a target=\"_blank\" href=https://colab.research.google.com/notebooks/data_table.ipynb>data table notebook</a>'\n",
              "            + ' to learn more about interactive tables.';\n",
              "          element.innerHTML = '';\n",
              "          dataTable['output_type'] = 'display_data';\n",
              "          await google.colab.output.renderOutput(dataTable, element);\n",
              "          const docLink = document.createElement('div');\n",
              "          docLink.innerHTML = docLinkHtml;\n",
              "          element.appendChild(docLink);\n",
              "        }\n",
              "      </script>\n",
              "    </div>\n",
              "  </div>\n",
              "  "
            ]
          },
          "metadata": {},
          "execution_count": 33
        }
      ],
      "source": [
        "datos.tail()"
      ]
    },
    {
      "cell_type": "code",
      "source": [
        "datos.fecha_incidente[2]"
      ],
      "metadata": {
        "id": "DedK13-mFKZG",
        "colab": {
          "base_uri": "https://localhost:8080/",
          "height": 35
        },
        "outputId": "10d78736-84a4-40d5-b89d-65c6fd1fbed9"
      },
      "id": "DedK13-mFKZG",
      "execution_count": null,
      "outputs": [
        {
          "output_type": "execute_result",
          "data": {
            "text/plain": [
              "'27/01/15'"
            ],
            "application/vnd.google.colaboratory.intrinsic+json": {
              "type": "string"
            }
          },
          "metadata": {},
          "execution_count": 34
        }
      ]
    },
    {
      "cell_type": "code",
      "execution_count": null,
      "id": "8d473bc1",
      "metadata": {
        "id": "8d473bc1",
        "colab": {
          "base_uri": "https://localhost:8080/"
        },
        "outputId": "57460073-7c89-4eb5-f446-15d3c5c303d8"
      },
      "outputs": [
        {
          "output_type": "execute_result",
          "data": {
            "text/plain": [
              "8"
            ]
          },
          "metadata": {},
          "execution_count": 35
        }
      ],
      "source": [
        "len(datos.fecha_incidente[2])"
      ]
    },
    {
      "cell_type": "code",
      "source": [
        "datos.fecha_incidente[223437]"
      ],
      "metadata": {
        "id": "UZA-zihLFN1m",
        "colab": {
          "base_uri": "https://localhost:8080/",
          "height": 35
        },
        "outputId": "59dfffdc-c94f-40d5-84cd-89796f3f038a"
      },
      "id": "UZA-zihLFN1m",
      "execution_count": null,
      "outputs": [
        {
          "output_type": "execute_result",
          "data": {
            "text/plain": [
              "'25/08/2021'"
            ],
            "application/vnd.google.colaboratory.intrinsic+json": {
              "type": "string"
            }
          },
          "metadata": {},
          "execution_count": 36
        }
      ]
    },
    {
      "cell_type": "code",
      "source": [
        "len(datos.fecha_incidente[223437])"
      ],
      "metadata": {
        "id": "zHhjll5sFE7W",
        "colab": {
          "base_uri": "https://localhost:8080/"
        },
        "outputId": "026a0e7b-2279-4477-a897-b1de44a888b8"
      },
      "id": "zHhjll5sFE7W",
      "execution_count": null,
      "outputs": [
        {
          "output_type": "execute_result",
          "data": {
            "text/plain": [
              "10"
            ]
          },
          "metadata": {},
          "execution_count": 37
        }
      ]
    },
    {
      "cell_type": "code",
      "execution_count": null,
      "id": "7aafc062",
      "metadata": {
        "id": "7aafc062"
      },
      "outputs": [],
      "source": [
        "aux1=[]\n",
        "for i in datos.fecha_incidente:\n",
        "    if (len(i)==10):\n",
        "        aux1.append(datetime.datetime.strptime(i,'%d/%m/%Y').date())\n",
        "    else:\n",
        "        aux1.append(datetime.datetime.strptime(i,'%d/%m/%y').date())"
      ]
    },
    {
      "cell_type": "code",
      "execution_count": null,
      "id": "ee5e5c48",
      "metadata": {
        "id": "ee5e5c48"
      },
      "outputs": [],
      "source": [
        "datos[\"fecha\"] = aux1"
      ]
    },
    {
      "cell_type": "code",
      "execution_count": null,
      "id": "6bd6c9fb",
      "metadata": {
        "id": "6bd6c9fb"
      },
      "outputs": [],
      "source": [
        "datos[\"mes\"] = pd.DatetimeIndex(datos.fecha).month\n",
        "datos[\"anio\"] = pd.DatetimeIndex(datos.fecha).year"
      ]
    },
    {
      "cell_type": "code",
      "execution_count": null,
      "id": "a90e51c2",
      "metadata": {
        "scrolled": true,
        "id": "a90e51c2",
        "colab": {
          "base_uri": "https://localhost:8080/",
          "height": 337
        },
        "outputId": "a79cbccb-13b3-46c1-b66a-ad4724e21dc6"
      },
      "outputs": [
        {
          "output_type": "execute_result",
          "data": {
            "text/plain": [
              "   nro_radicado  ano_incidente fecha_incidente hora_incidente clase_incidente  \\\n",
              "0       1473523           2015        27/01/15       22:00:00          Choque   \n",
              "1       1473525           2015        27/01/15       15:40:00          Choque   \n",
              "2       1473526           2015        27/01/15       18:00:00          Choque   \n",
              "3       1473527           2015        27/01/15        7:30:00            Otro   \n",
              "4       1473528           2015        27/01/15       15:00:00          Choque   \n",
              "\n",
              "  gravedad_incidente                    direccion             zona  \\\n",
              "0             HERIDO      Calle 30 Con Carrera 49  Jurisdicci\\xF3n   \n",
              "1             HERIDO  Calle 49 B Con Carrera 77 B        COMUNA 11   \n",
              "2             HERIDO    Calle 98 Con Carrera 51 A         COMUNA 4   \n",
              "3             HERIDO      Carrera 49 Con Calle 10        COMUNA 14   \n",
              "4             HERIDO      Carrera 30 Con Calle 11        COMUNA 14   \n",
              "\n",
              "     diseno_via       fecha  mes  anio  \n",
              "0       Tunel\\r  2015-01-27    1  2015  \n",
              "1  Tramo de via  2015-01-27    1  2015  \n",
              "2  Tramo de via  2015-01-27    1  2015  \n",
              "3  Tramo de via  2015-01-27    1  2015  \n",
              "4  Tramo de via  2015-01-27    1  2015  "
            ],
            "text/html": [
              "\n",
              "  <div id=\"df-0428a0bb-a1c7-4c8e-b34f-edc6e34e8aa8\">\n",
              "    <div class=\"colab-df-container\">\n",
              "      <div>\n",
              "<style scoped>\n",
              "    .dataframe tbody tr th:only-of-type {\n",
              "        vertical-align: middle;\n",
              "    }\n",
              "\n",
              "    .dataframe tbody tr th {\n",
              "        vertical-align: top;\n",
              "    }\n",
              "\n",
              "    .dataframe thead th {\n",
              "        text-align: right;\n",
              "    }\n",
              "</style>\n",
              "<table border=\"1\" class=\"dataframe\">\n",
              "  <thead>\n",
              "    <tr style=\"text-align: right;\">\n",
              "      <th></th>\n",
              "      <th>nro_radicado</th>\n",
              "      <th>ano_incidente</th>\n",
              "      <th>fecha_incidente</th>\n",
              "      <th>hora_incidente</th>\n",
              "      <th>clase_incidente</th>\n",
              "      <th>gravedad_incidente</th>\n",
              "      <th>direccion</th>\n",
              "      <th>zona</th>\n",
              "      <th>diseno_via</th>\n",
              "      <th>fecha</th>\n",
              "      <th>mes</th>\n",
              "      <th>anio</th>\n",
              "    </tr>\n",
              "  </thead>\n",
              "  <tbody>\n",
              "    <tr>\n",
              "      <th>0</th>\n",
              "      <td>1473523</td>\n",
              "      <td>2015</td>\n",
              "      <td>27/01/15</td>\n",
              "      <td>22:00:00</td>\n",
              "      <td>Choque</td>\n",
              "      <td>HERIDO</td>\n",
              "      <td>Calle 30 Con Carrera 49</td>\n",
              "      <td>Jurisdicci\\xF3n</td>\n",
              "      <td>Tunel\\r</td>\n",
              "      <td>2015-01-27</td>\n",
              "      <td>1</td>\n",
              "      <td>2015</td>\n",
              "    </tr>\n",
              "    <tr>\n",
              "      <th>1</th>\n",
              "      <td>1473525</td>\n",
              "      <td>2015</td>\n",
              "      <td>27/01/15</td>\n",
              "      <td>15:40:00</td>\n",
              "      <td>Choque</td>\n",
              "      <td>HERIDO</td>\n",
              "      <td>Calle 49 B Con Carrera 77 B</td>\n",
              "      <td>COMUNA 11</td>\n",
              "      <td>Tramo de via</td>\n",
              "      <td>2015-01-27</td>\n",
              "      <td>1</td>\n",
              "      <td>2015</td>\n",
              "    </tr>\n",
              "    <tr>\n",
              "      <th>2</th>\n",
              "      <td>1473526</td>\n",
              "      <td>2015</td>\n",
              "      <td>27/01/15</td>\n",
              "      <td>18:00:00</td>\n",
              "      <td>Choque</td>\n",
              "      <td>HERIDO</td>\n",
              "      <td>Calle 98 Con Carrera 51 A</td>\n",
              "      <td>COMUNA 4</td>\n",
              "      <td>Tramo de via</td>\n",
              "      <td>2015-01-27</td>\n",
              "      <td>1</td>\n",
              "      <td>2015</td>\n",
              "    </tr>\n",
              "    <tr>\n",
              "      <th>3</th>\n",
              "      <td>1473527</td>\n",
              "      <td>2015</td>\n",
              "      <td>27/01/15</td>\n",
              "      <td>7:30:00</td>\n",
              "      <td>Otro</td>\n",
              "      <td>HERIDO</td>\n",
              "      <td>Carrera 49 Con Calle 10</td>\n",
              "      <td>COMUNA 14</td>\n",
              "      <td>Tramo de via</td>\n",
              "      <td>2015-01-27</td>\n",
              "      <td>1</td>\n",
              "      <td>2015</td>\n",
              "    </tr>\n",
              "    <tr>\n",
              "      <th>4</th>\n",
              "      <td>1473528</td>\n",
              "      <td>2015</td>\n",
              "      <td>27/01/15</td>\n",
              "      <td>15:00:00</td>\n",
              "      <td>Choque</td>\n",
              "      <td>HERIDO</td>\n",
              "      <td>Carrera 30 Con Calle 11</td>\n",
              "      <td>COMUNA 14</td>\n",
              "      <td>Tramo de via</td>\n",
              "      <td>2015-01-27</td>\n",
              "      <td>1</td>\n",
              "      <td>2015</td>\n",
              "    </tr>\n",
              "  </tbody>\n",
              "</table>\n",
              "</div>\n",
              "      <button class=\"colab-df-convert\" onclick=\"convertToInteractive('df-0428a0bb-a1c7-4c8e-b34f-edc6e34e8aa8')\"\n",
              "              title=\"Convert this dataframe to an interactive table.\"\n",
              "              style=\"display:none;\">\n",
              "        \n",
              "  <svg xmlns=\"http://www.w3.org/2000/svg\" height=\"24px\"viewBox=\"0 0 24 24\"\n",
              "       width=\"24px\">\n",
              "    <path d=\"M0 0h24v24H0V0z\" fill=\"none\"/>\n",
              "    <path d=\"M18.56 5.44l.94 2.06.94-2.06 2.06-.94-2.06-.94-.94-2.06-.94 2.06-2.06.94zm-11 1L8.5 8.5l.94-2.06 2.06-.94-2.06-.94L8.5 2.5l-.94 2.06-2.06.94zm10 10l.94 2.06.94-2.06 2.06-.94-2.06-.94-.94-2.06-.94 2.06-2.06.94z\"/><path d=\"M17.41 7.96l-1.37-1.37c-.4-.4-.92-.59-1.43-.59-.52 0-1.04.2-1.43.59L10.3 9.45l-7.72 7.72c-.78.78-.78 2.05 0 2.83L4 21.41c.39.39.9.59 1.41.59.51 0 1.02-.2 1.41-.59l7.78-7.78 2.81-2.81c.8-.78.8-2.07 0-2.86zM5.41 20L4 18.59l7.72-7.72 1.47 1.35L5.41 20z\"/>\n",
              "  </svg>\n",
              "      </button>\n",
              "      \n",
              "  <style>\n",
              "    .colab-df-container {\n",
              "      display:flex;\n",
              "      flex-wrap:wrap;\n",
              "      gap: 12px;\n",
              "    }\n",
              "\n",
              "    .colab-df-convert {\n",
              "      background-color: #E8F0FE;\n",
              "      border: none;\n",
              "      border-radius: 50%;\n",
              "      cursor: pointer;\n",
              "      display: none;\n",
              "      fill: #1967D2;\n",
              "      height: 32px;\n",
              "      padding: 0 0 0 0;\n",
              "      width: 32px;\n",
              "    }\n",
              "\n",
              "    .colab-df-convert:hover {\n",
              "      background-color: #E2EBFA;\n",
              "      box-shadow: 0px 1px 2px rgba(60, 64, 67, 0.3), 0px 1px 3px 1px rgba(60, 64, 67, 0.15);\n",
              "      fill: #174EA6;\n",
              "    }\n",
              "\n",
              "    [theme=dark] .colab-df-convert {\n",
              "      background-color: #3B4455;\n",
              "      fill: #D2E3FC;\n",
              "    }\n",
              "\n",
              "    [theme=dark] .colab-df-convert:hover {\n",
              "      background-color: #434B5C;\n",
              "      box-shadow: 0px 1px 3px 1px rgba(0, 0, 0, 0.15);\n",
              "      filter: drop-shadow(0px 1px 2px rgba(0, 0, 0, 0.3));\n",
              "      fill: #FFFFFF;\n",
              "    }\n",
              "  </style>\n",
              "\n",
              "      <script>\n",
              "        const buttonEl =\n",
              "          document.querySelector('#df-0428a0bb-a1c7-4c8e-b34f-edc6e34e8aa8 button.colab-df-convert');\n",
              "        buttonEl.style.display =\n",
              "          google.colab.kernel.accessAllowed ? 'block' : 'none';\n",
              "\n",
              "        async function convertToInteractive(key) {\n",
              "          const element = document.querySelector('#df-0428a0bb-a1c7-4c8e-b34f-edc6e34e8aa8');\n",
              "          const dataTable =\n",
              "            await google.colab.kernel.invokeFunction('convertToInteractive',\n",
              "                                                     [key], {});\n",
              "          if (!dataTable) return;\n",
              "\n",
              "          const docLinkHtml = 'Like what you see? Visit the ' +\n",
              "            '<a target=\"_blank\" href=https://colab.research.google.com/notebooks/data_table.ipynb>data table notebook</a>'\n",
              "            + ' to learn more about interactive tables.';\n",
              "          element.innerHTML = '';\n",
              "          dataTable['output_type'] = 'display_data';\n",
              "          await google.colab.output.renderOutput(dataTable, element);\n",
              "          const docLink = document.createElement('div');\n",
              "          docLink.innerHTML = docLinkHtml;\n",
              "          element.appendChild(docLink);\n",
              "        }\n",
              "      </script>\n",
              "    </div>\n",
              "  </div>\n",
              "  "
            ]
          },
          "metadata": {},
          "execution_count": 18
        }
      ],
      "source": [
        "datos.head()"
      ]
    },
    {
      "cell_type": "code",
      "execution_count": null,
      "id": "a933cd9f",
      "metadata": {
        "scrolled": true,
        "id": "a933cd9f",
        "colab": {
          "base_uri": "https://localhost:8080/",
          "height": 337
        },
        "outputId": "3068d38b-eaa9-4198-d6c9-0d19ffe717aa"
      },
      "outputs": [
        {
          "output_type": "execute_result",
          "data": {
            "text/plain": [
              "        nro_radicado  ano_incidente fecha_incidente hora_incidente  \\\n",
              "223434       1759231           2021      25/08/2021       19:30:00   \n",
              "223435       1759324           2021      25/08/2021       19:50:00   \n",
              "223436       1759665           2021      25/08/2021       20:15:00   \n",
              "223437       1759743           2021      25/08/2021       20:25:00   \n",
              "223438       1759627           2021      25/08/2021       21:00:00   \n",
              "\n",
              "       clase_incidente gravedad_incidente                      direccion  \\\n",
              "223434  Caida Ocupante             HERIDO      Carrera 43 Con Calle 16 A   \n",
              "223435            Otro             HERIDO        Carrera 62 Con Calle 45   \n",
              "223436          Choque             HERIDO  Transversal 78 Con Calle 79 B   \n",
              "223437          Choque      SOLO DA\\xD1OS      Carrera 45 Con Calle 72 A   \n",
              "223438            Otro             HERIDO    Calle 48 DD Con Carrera 101   \n",
              "\n",
              "             zona      diseno_via       fecha  mes  anio  \n",
              "223434  COMUNA 14   Lote o Predio  2021-08-25    8  2021  \n",
              "223435  COMUNA 10   Lote o Predio  2021-08-25    8  2021  \n",
              "223436   COMUNA 5    Tramo de via  2021-08-25    8  2021  \n",
              "223437   COMUNA 4  Interseccion\\r  2021-08-25    8  2021  \n",
              "223438  COMUNA 13   Lote o Predio  2021-08-25    8  2021  "
            ],
            "text/html": [
              "\n",
              "  <div id=\"df-967de421-612d-4e64-b3b3-d94439fa446f\">\n",
              "    <div class=\"colab-df-container\">\n",
              "      <div>\n",
              "<style scoped>\n",
              "    .dataframe tbody tr th:only-of-type {\n",
              "        vertical-align: middle;\n",
              "    }\n",
              "\n",
              "    .dataframe tbody tr th {\n",
              "        vertical-align: top;\n",
              "    }\n",
              "\n",
              "    .dataframe thead th {\n",
              "        text-align: right;\n",
              "    }\n",
              "</style>\n",
              "<table border=\"1\" class=\"dataframe\">\n",
              "  <thead>\n",
              "    <tr style=\"text-align: right;\">\n",
              "      <th></th>\n",
              "      <th>nro_radicado</th>\n",
              "      <th>ano_incidente</th>\n",
              "      <th>fecha_incidente</th>\n",
              "      <th>hora_incidente</th>\n",
              "      <th>clase_incidente</th>\n",
              "      <th>gravedad_incidente</th>\n",
              "      <th>direccion</th>\n",
              "      <th>zona</th>\n",
              "      <th>diseno_via</th>\n",
              "      <th>fecha</th>\n",
              "      <th>mes</th>\n",
              "      <th>anio</th>\n",
              "    </tr>\n",
              "  </thead>\n",
              "  <tbody>\n",
              "    <tr>\n",
              "      <th>223434</th>\n",
              "      <td>1759231</td>\n",
              "      <td>2021</td>\n",
              "      <td>25/08/2021</td>\n",
              "      <td>19:30:00</td>\n",
              "      <td>Caida Ocupante</td>\n",
              "      <td>HERIDO</td>\n",
              "      <td>Carrera 43 Con Calle 16 A</td>\n",
              "      <td>COMUNA 14</td>\n",
              "      <td>Lote o Predio</td>\n",
              "      <td>2021-08-25</td>\n",
              "      <td>8</td>\n",
              "      <td>2021</td>\n",
              "    </tr>\n",
              "    <tr>\n",
              "      <th>223435</th>\n",
              "      <td>1759324</td>\n",
              "      <td>2021</td>\n",
              "      <td>25/08/2021</td>\n",
              "      <td>19:50:00</td>\n",
              "      <td>Otro</td>\n",
              "      <td>HERIDO</td>\n",
              "      <td>Carrera 62 Con Calle 45</td>\n",
              "      <td>COMUNA 10</td>\n",
              "      <td>Lote o Predio</td>\n",
              "      <td>2021-08-25</td>\n",
              "      <td>8</td>\n",
              "      <td>2021</td>\n",
              "    </tr>\n",
              "    <tr>\n",
              "      <th>223436</th>\n",
              "      <td>1759665</td>\n",
              "      <td>2021</td>\n",
              "      <td>25/08/2021</td>\n",
              "      <td>20:15:00</td>\n",
              "      <td>Choque</td>\n",
              "      <td>HERIDO</td>\n",
              "      <td>Transversal 78 Con Calle 79 B</td>\n",
              "      <td>COMUNA 5</td>\n",
              "      <td>Tramo de via</td>\n",
              "      <td>2021-08-25</td>\n",
              "      <td>8</td>\n",
              "      <td>2021</td>\n",
              "    </tr>\n",
              "    <tr>\n",
              "      <th>223437</th>\n",
              "      <td>1759743</td>\n",
              "      <td>2021</td>\n",
              "      <td>25/08/2021</td>\n",
              "      <td>20:25:00</td>\n",
              "      <td>Choque</td>\n",
              "      <td>SOLO DA\\xD1OS</td>\n",
              "      <td>Carrera 45 Con Calle 72 A</td>\n",
              "      <td>COMUNA 4</td>\n",
              "      <td>Interseccion\\r</td>\n",
              "      <td>2021-08-25</td>\n",
              "      <td>8</td>\n",
              "      <td>2021</td>\n",
              "    </tr>\n",
              "    <tr>\n",
              "      <th>223438</th>\n",
              "      <td>1759627</td>\n",
              "      <td>2021</td>\n",
              "      <td>25/08/2021</td>\n",
              "      <td>21:00:00</td>\n",
              "      <td>Otro</td>\n",
              "      <td>HERIDO</td>\n",
              "      <td>Calle 48 DD Con Carrera 101</td>\n",
              "      <td>COMUNA 13</td>\n",
              "      <td>Lote o Predio</td>\n",
              "      <td>2021-08-25</td>\n",
              "      <td>8</td>\n",
              "      <td>2021</td>\n",
              "    </tr>\n",
              "  </tbody>\n",
              "</table>\n",
              "</div>\n",
              "      <button class=\"colab-df-convert\" onclick=\"convertToInteractive('df-967de421-612d-4e64-b3b3-d94439fa446f')\"\n",
              "              title=\"Convert this dataframe to an interactive table.\"\n",
              "              style=\"display:none;\">\n",
              "        \n",
              "  <svg xmlns=\"http://www.w3.org/2000/svg\" height=\"24px\"viewBox=\"0 0 24 24\"\n",
              "       width=\"24px\">\n",
              "    <path d=\"M0 0h24v24H0V0z\" fill=\"none\"/>\n",
              "    <path d=\"M18.56 5.44l.94 2.06.94-2.06 2.06-.94-2.06-.94-.94-2.06-.94 2.06-2.06.94zm-11 1L8.5 8.5l.94-2.06 2.06-.94-2.06-.94L8.5 2.5l-.94 2.06-2.06.94zm10 10l.94 2.06.94-2.06 2.06-.94-2.06-.94-.94-2.06-.94 2.06-2.06.94z\"/><path d=\"M17.41 7.96l-1.37-1.37c-.4-.4-.92-.59-1.43-.59-.52 0-1.04.2-1.43.59L10.3 9.45l-7.72 7.72c-.78.78-.78 2.05 0 2.83L4 21.41c.39.39.9.59 1.41.59.51 0 1.02-.2 1.41-.59l7.78-7.78 2.81-2.81c.8-.78.8-2.07 0-2.86zM5.41 20L4 18.59l7.72-7.72 1.47 1.35L5.41 20z\"/>\n",
              "  </svg>\n",
              "      </button>\n",
              "      \n",
              "  <style>\n",
              "    .colab-df-container {\n",
              "      display:flex;\n",
              "      flex-wrap:wrap;\n",
              "      gap: 12px;\n",
              "    }\n",
              "\n",
              "    .colab-df-convert {\n",
              "      background-color: #E8F0FE;\n",
              "      border: none;\n",
              "      border-radius: 50%;\n",
              "      cursor: pointer;\n",
              "      display: none;\n",
              "      fill: #1967D2;\n",
              "      height: 32px;\n",
              "      padding: 0 0 0 0;\n",
              "      width: 32px;\n",
              "    }\n",
              "\n",
              "    .colab-df-convert:hover {\n",
              "      background-color: #E2EBFA;\n",
              "      box-shadow: 0px 1px 2px rgba(60, 64, 67, 0.3), 0px 1px 3px 1px rgba(60, 64, 67, 0.15);\n",
              "      fill: #174EA6;\n",
              "    }\n",
              "\n",
              "    [theme=dark] .colab-df-convert {\n",
              "      background-color: #3B4455;\n",
              "      fill: #D2E3FC;\n",
              "    }\n",
              "\n",
              "    [theme=dark] .colab-df-convert:hover {\n",
              "      background-color: #434B5C;\n",
              "      box-shadow: 0px 1px 3px 1px rgba(0, 0, 0, 0.15);\n",
              "      filter: drop-shadow(0px 1px 2px rgba(0, 0, 0, 0.3));\n",
              "      fill: #FFFFFF;\n",
              "    }\n",
              "  </style>\n",
              "\n",
              "      <script>\n",
              "        const buttonEl =\n",
              "          document.querySelector('#df-967de421-612d-4e64-b3b3-d94439fa446f button.colab-df-convert');\n",
              "        buttonEl.style.display =\n",
              "          google.colab.kernel.accessAllowed ? 'block' : 'none';\n",
              "\n",
              "        async function convertToInteractive(key) {\n",
              "          const element = document.querySelector('#df-967de421-612d-4e64-b3b3-d94439fa446f');\n",
              "          const dataTable =\n",
              "            await google.colab.kernel.invokeFunction('convertToInteractive',\n",
              "                                                     [key], {});\n",
              "          if (!dataTable) return;\n",
              "\n",
              "          const docLinkHtml = 'Like what you see? Visit the ' +\n",
              "            '<a target=\"_blank\" href=https://colab.research.google.com/notebooks/data_table.ipynb>data table notebook</a>'\n",
              "            + ' to learn more about interactive tables.';\n",
              "          element.innerHTML = '';\n",
              "          dataTable['output_type'] = 'display_data';\n",
              "          await google.colab.output.renderOutput(dataTable, element);\n",
              "          const docLink = document.createElement('div');\n",
              "          docLink.innerHTML = docLinkHtml;\n",
              "          element.appendChild(docLink);\n",
              "        }\n",
              "      </script>\n",
              "    </div>\n",
              "  </div>\n",
              "  "
            ]
          },
          "metadata": {},
          "execution_count": 42
        }
      ],
      "source": [
        "datos.tail()"
      ]
    },
    {
      "cell_type": "code",
      "execution_count": null,
      "id": "c3384773",
      "metadata": {
        "scrolled": true,
        "id": "c3384773",
        "colab": {
          "base_uri": "https://localhost:8080/"
        },
        "outputId": "612500db-be67-409c-cbd9-7a49a8464fc4"
      },
      "outputs": [
        {
          "output_type": "execute_result",
          "data": {
            "text/plain": [
              "nro_radicado           int64\n",
              "ano_incidente          int64\n",
              "fecha_incidente       object\n",
              "hora_incidente        object\n",
              "clase_incidente       object\n",
              "gravedad_incidente    object\n",
              "direccion             object\n",
              "zona                  object\n",
              "diseno_via            object\n",
              "fecha                 object\n",
              "mes                    int64\n",
              "anio                   int64\n",
              "dtype: object"
            ]
          },
          "metadata": {},
          "execution_count": 43
        }
      ],
      "source": [
        "datos.dtypes"
      ]
    },
    {
      "cell_type": "code",
      "execution_count": null,
      "id": "32667c37",
      "metadata": {
        "id": "32667c37"
      },
      "outputs": [],
      "source": [
        "resum1 = datos.groupby([\"anio\", \"mes\"]).size().to_frame(\"accidentes\")"
      ]
    },
    {
      "cell_type": "code",
      "execution_count": null,
      "id": "640cf5b5",
      "metadata": {
        "id": "640cf5b5"
      },
      "outputs": [],
      "source": [
        "resum1.reset_index(inplace=True)"
      ]
    },
    {
      "cell_type": "code",
      "execution_count": null,
      "id": "d4b32836",
      "metadata": {
        "scrolled": true,
        "id": "d4b32836",
        "colab": {
          "base_uri": "https://localhost:8080/",
          "height": 424
        },
        "outputId": "674c744d-ce26-40f4-ad84-2964550ca1df"
      },
      "outputs": [
        {
          "output_type": "execute_result",
          "data": {
            "text/plain": [
              "    anio  mes  accidentes\n",
              "0   2015    1        2596\n",
              "1   2015    2        2680\n",
              "2   2015    3        3077\n",
              "3   2015    4        2876\n",
              "4   2015    5        3114\n",
              "..   ...  ...         ...\n",
              "75  2021    4        2038\n",
              "76  2021    5        2860\n",
              "77  2021    6        2844\n",
              "78  2021    7        3180\n",
              "79  2021    8        3077\n",
              "\n",
              "[80 rows x 3 columns]"
            ],
            "text/html": [
              "\n",
              "  <div id=\"df-11b818ed-4f4e-4446-b91b-014197169948\">\n",
              "    <div class=\"colab-df-container\">\n",
              "      <div>\n",
              "<style scoped>\n",
              "    .dataframe tbody tr th:only-of-type {\n",
              "        vertical-align: middle;\n",
              "    }\n",
              "\n",
              "    .dataframe tbody tr th {\n",
              "        vertical-align: top;\n",
              "    }\n",
              "\n",
              "    .dataframe thead th {\n",
              "        text-align: right;\n",
              "    }\n",
              "</style>\n",
              "<table border=\"1\" class=\"dataframe\">\n",
              "  <thead>\n",
              "    <tr style=\"text-align: right;\">\n",
              "      <th></th>\n",
              "      <th>anio</th>\n",
              "      <th>mes</th>\n",
              "      <th>accidentes</th>\n",
              "    </tr>\n",
              "  </thead>\n",
              "  <tbody>\n",
              "    <tr>\n",
              "      <th>0</th>\n",
              "      <td>2015</td>\n",
              "      <td>1</td>\n",
              "      <td>2596</td>\n",
              "    </tr>\n",
              "    <tr>\n",
              "      <th>1</th>\n",
              "      <td>2015</td>\n",
              "      <td>2</td>\n",
              "      <td>2680</td>\n",
              "    </tr>\n",
              "    <tr>\n",
              "      <th>2</th>\n",
              "      <td>2015</td>\n",
              "      <td>3</td>\n",
              "      <td>3077</td>\n",
              "    </tr>\n",
              "    <tr>\n",
              "      <th>3</th>\n",
              "      <td>2015</td>\n",
              "      <td>4</td>\n",
              "      <td>2876</td>\n",
              "    </tr>\n",
              "    <tr>\n",
              "      <th>4</th>\n",
              "      <td>2015</td>\n",
              "      <td>5</td>\n",
              "      <td>3114</td>\n",
              "    </tr>\n",
              "    <tr>\n",
              "      <th>...</th>\n",
              "      <td>...</td>\n",
              "      <td>...</td>\n",
              "      <td>...</td>\n",
              "    </tr>\n",
              "    <tr>\n",
              "      <th>75</th>\n",
              "      <td>2021</td>\n",
              "      <td>4</td>\n",
              "      <td>2038</td>\n",
              "    </tr>\n",
              "    <tr>\n",
              "      <th>76</th>\n",
              "      <td>2021</td>\n",
              "      <td>5</td>\n",
              "      <td>2860</td>\n",
              "    </tr>\n",
              "    <tr>\n",
              "      <th>77</th>\n",
              "      <td>2021</td>\n",
              "      <td>6</td>\n",
              "      <td>2844</td>\n",
              "    </tr>\n",
              "    <tr>\n",
              "      <th>78</th>\n",
              "      <td>2021</td>\n",
              "      <td>7</td>\n",
              "      <td>3180</td>\n",
              "    </tr>\n",
              "    <tr>\n",
              "      <th>79</th>\n",
              "      <td>2021</td>\n",
              "      <td>8</td>\n",
              "      <td>3077</td>\n",
              "    </tr>\n",
              "  </tbody>\n",
              "</table>\n",
              "<p>80 rows × 3 columns</p>\n",
              "</div>\n",
              "      <button class=\"colab-df-convert\" onclick=\"convertToInteractive('df-11b818ed-4f4e-4446-b91b-014197169948')\"\n",
              "              title=\"Convert this dataframe to an interactive table.\"\n",
              "              style=\"display:none;\">\n",
              "        \n",
              "  <svg xmlns=\"http://www.w3.org/2000/svg\" height=\"24px\"viewBox=\"0 0 24 24\"\n",
              "       width=\"24px\">\n",
              "    <path d=\"M0 0h24v24H0V0z\" fill=\"none\"/>\n",
              "    <path d=\"M18.56 5.44l.94 2.06.94-2.06 2.06-.94-2.06-.94-.94-2.06-.94 2.06-2.06.94zm-11 1L8.5 8.5l.94-2.06 2.06-.94-2.06-.94L8.5 2.5l-.94 2.06-2.06.94zm10 10l.94 2.06.94-2.06 2.06-.94-2.06-.94-.94-2.06-.94 2.06-2.06.94z\"/><path d=\"M17.41 7.96l-1.37-1.37c-.4-.4-.92-.59-1.43-.59-.52 0-1.04.2-1.43.59L10.3 9.45l-7.72 7.72c-.78.78-.78 2.05 0 2.83L4 21.41c.39.39.9.59 1.41.59.51 0 1.02-.2 1.41-.59l7.78-7.78 2.81-2.81c.8-.78.8-2.07 0-2.86zM5.41 20L4 18.59l7.72-7.72 1.47 1.35L5.41 20z\"/>\n",
              "  </svg>\n",
              "      </button>\n",
              "      \n",
              "  <style>\n",
              "    .colab-df-container {\n",
              "      display:flex;\n",
              "      flex-wrap:wrap;\n",
              "      gap: 12px;\n",
              "    }\n",
              "\n",
              "    .colab-df-convert {\n",
              "      background-color: #E8F0FE;\n",
              "      border: none;\n",
              "      border-radius: 50%;\n",
              "      cursor: pointer;\n",
              "      display: none;\n",
              "      fill: #1967D2;\n",
              "      height: 32px;\n",
              "      padding: 0 0 0 0;\n",
              "      width: 32px;\n",
              "    }\n",
              "\n",
              "    .colab-df-convert:hover {\n",
              "      background-color: #E2EBFA;\n",
              "      box-shadow: 0px 1px 2px rgba(60, 64, 67, 0.3), 0px 1px 3px 1px rgba(60, 64, 67, 0.15);\n",
              "      fill: #174EA6;\n",
              "    }\n",
              "\n",
              "    [theme=dark] .colab-df-convert {\n",
              "      background-color: #3B4455;\n",
              "      fill: #D2E3FC;\n",
              "    }\n",
              "\n",
              "    [theme=dark] .colab-df-convert:hover {\n",
              "      background-color: #434B5C;\n",
              "      box-shadow: 0px 1px 3px 1px rgba(0, 0, 0, 0.15);\n",
              "      filter: drop-shadow(0px 1px 2px rgba(0, 0, 0, 0.3));\n",
              "      fill: #FFFFFF;\n",
              "    }\n",
              "  </style>\n",
              "\n",
              "      <script>\n",
              "        const buttonEl =\n",
              "          document.querySelector('#df-11b818ed-4f4e-4446-b91b-014197169948 button.colab-df-convert');\n",
              "        buttonEl.style.display =\n",
              "          google.colab.kernel.accessAllowed ? 'block' : 'none';\n",
              "\n",
              "        async function convertToInteractive(key) {\n",
              "          const element = document.querySelector('#df-11b818ed-4f4e-4446-b91b-014197169948');\n",
              "          const dataTable =\n",
              "            await google.colab.kernel.invokeFunction('convertToInteractive',\n",
              "                                                     [key], {});\n",
              "          if (!dataTable) return;\n",
              "\n",
              "          const docLinkHtml = 'Like what you see? Visit the ' +\n",
              "            '<a target=\"_blank\" href=https://colab.research.google.com/notebooks/data_table.ipynb>data table notebook</a>'\n",
              "            + ' to learn more about interactive tables.';\n",
              "          element.innerHTML = '';\n",
              "          dataTable['output_type'] = 'display_data';\n",
              "          await google.colab.output.renderOutput(dataTable, element);\n",
              "          const docLink = document.createElement('div');\n",
              "          docLink.innerHTML = docLinkHtml;\n",
              "          element.appendChild(docLink);\n",
              "        }\n",
              "      </script>\n",
              "    </div>\n",
              "  </div>\n",
              "  "
            ]
          },
          "metadata": {},
          "execution_count": 46
        }
      ],
      "source": [
        "resum1"
      ]
    },
    {
      "cell_type": "code",
      "source": [
        "from statsmodels.tsa.stattools import acf, pacf\n",
        "from statsmodels.graphics.tsaplots import plot_acf, plot_pacf"
      ],
      "metadata": {
        "id": "YMKyvGuwHMOp"
      },
      "id": "YMKyvGuwHMOp",
      "execution_count": null,
      "outputs": []
    },
    {
      "cell_type": "code",
      "source": [
        "acf(resum1.accidentes, nlags=20)"
      ],
      "metadata": {
        "id": "s-DYCD3OIdF2",
        "colab": {
          "base_uri": "https://localhost:8080/"
        },
        "outputId": "2fb6f383-42e0-4fde-9733-908f0f429247"
      },
      "id": "s-DYCD3OIdF2",
      "execution_count": null,
      "outputs": [
        {
          "output_type": "stream",
          "name": "stderr",
          "text": [
            "/usr/local/lib/python3.7/dist-packages/statsmodels/tsa/stattools.py:671: FutureWarning: fft=True will become the default after the release of the 0.12 release of statsmodels. To suppress this warning, explicitly set fft=False.\n",
            "  FutureWarning,\n"
          ]
        },
        {
          "output_type": "execute_result",
          "data": {
            "text/plain": [
              "array([ 1.        ,  0.73751322,  0.55670006,  0.37076649,  0.21306717,\n",
              "        0.11780313, -0.07516683, -0.08585314, -0.13458975, -0.06264921,\n",
              "        0.00559341,  0.02503531,  0.15642162,  0.09756434,  0.07390462,\n",
              "        0.01297071, -0.00705967,  0.05612077, -0.02286527,  0.00128398,\n",
              "       -0.04070153])"
            ]
          },
          "metadata": {},
          "execution_count": 48
        }
      ]
    },
    {
      "cell_type": "code",
      "source": [
        "pacf(resum1.accidentes, nlags=20)"
      ],
      "metadata": {
        "id": "F1woa21QIwwq",
        "colab": {
          "base_uri": "https://localhost:8080/"
        },
        "outputId": "aac73fb0-9aaf-4647-d09d-4e2e0e107bce"
      },
      "id": "F1woa21QIwwq",
      "execution_count": null,
      "outputs": [
        {
          "output_type": "execute_result",
          "data": {
            "text/plain": [
              "array([ 1.00000000e+00,  7.46848827e-01,  2.98298175e-02, -1.14927436e-01,\n",
              "       -8.00435170e-02,  2.19692037e-02, -3.19435616e-01,  2.24470929e-01,\n",
              "       -9.62960179e-02,  2.37819823e-01, -1.69862664e-04,  1.68107878e-02,\n",
              "        1.89602137e-01, -3.10304739e-01, -8.20034221e-02,  4.64500945e-03,\n",
              "        1.09830743e-01,  2.23503608e-01, -1.64939603e-01,  8.40130560e-02,\n",
              "       -1.17068446e-01])"
            ]
          },
          "metadata": {},
          "execution_count": 49
        }
      ]
    },
    {
      "cell_type": "code",
      "source": [
        "plot_acf(resum1.accidentes)\n",
        "plt.show()\n",
        "plot_pacf(resum1.accidentes)\n",
        "plt.show()"
      ],
      "metadata": {
        "id": "iPsRflBSHka5",
        "colab": {
          "base_uri": "https://localhost:8080/",
          "height": 545
        },
        "outputId": "451875d3-5811-4874-fde2-4b79474e053e"
      },
      "id": "iPsRflBSHka5",
      "execution_count": null,
      "outputs": [
        {
          "output_type": "display_data",
          "data": {
            "text/plain": [
              "<Figure size 432x288 with 1 Axes>"
            ],
            "image/png": "[encoded data removed]"
          },
          "metadata": {
            "needs_background": "light"
          }
        },
        {
          "output_type": "display_data",
          "data": {
            "text/plain": [
              "<Figure size 432x288 with 1 Axes>"
            ],
            "image/png": "[encoded data removed]"
          },
          "metadata": {
            "needs_background": "light"
          }
        }
      ]
    },
    {
      "cell_type": "code",
      "execution_count": null,
      "id": "b5ac4160",
      "metadata": {
        "id": "b5ac4160",
        "colab": {
          "base_uri": "https://localhost:8080/",
          "height": 537
        },
        "outputId": "405f0471-e606-45f4-859f-2e2c430cb1af"
      },
      "outputs": [
        {
          "output_type": "execute_result",
          "data": {
            "text/plain": [
              "<class 'statsmodels.iolib.summary.Summary'>\n",
              "\"\"\"\n",
              "                               SARIMAX Results                                \n",
              "==============================================================================\n",
              "Dep. Variable:             accidentes   No. Observations:                   80\n",
              "Model:                 ARIMA(6, 0, 0)   Log Likelihood                -567.542\n",
              "Date:                Fri, 09 Sep 2022   AIC                           1151.085\n",
              "Time:                        20:01:24   BIC                           1170.141\n",
              "Sample:                             0   HQIC                          1158.725\n",
              "                                 - 80                                         \n",
              "Covariance Type:                  opg                                         \n",
              "==============================================================================\n",
              "                 coef    std err          z      P>|z|      [0.025      0.975]\n",
              "------------------------------------------------------------------------------\n",
              "const       2792.9875    115.428     24.197      0.000    2566.752    3019.223\n",
              "ar.L1          0.7021      0.092      7.643      0.000       0.522       0.882\n",
              "ar.L2          0.1012      0.174      0.582      0.561      -0.240       0.442\n",
              "ar.L3         -0.0704      0.164     -0.430      0.667      -0.392       0.251\n",
              "ar.L4         -0.0513      0.190     -0.270      0.787      -0.424       0.322\n",
              "ar.L5          0.2252      0.153      1.470      0.141      -0.075       0.525\n",
              "ar.L6         -0.2961      0.158     -1.879      0.060      -0.605       0.013\n",
              "sigma2      8.627e+04   1.34e+04      6.452      0.000    6.01e+04    1.12e+05\n",
              "===================================================================================\n",
              "Ljung-Box (L1) (Q):                   0.43   Jarque-Bera (JB):                80.83\n",
              "Prob(Q):                              0.51   Prob(JB):                         0.00\n",
              "Heteroskedasticity (H):               3.89   Skew:                            -1.50\n",
              "Prob(H) (two-sided):                  0.00   Kurtosis:                         6.90\n",
              "===================================================================================\n",
              "\n",
              "Warnings:\n",
              "[1] Covariance matrix calculated using the outer product of gradients (complex-step).\n",
              "\"\"\""
            ],
            "text/html": [
              "<table class=\"simpletable\">\n",
              "<caption>SARIMAX Results</caption>\n",
              "<tr>\n",
              "  <th>Dep. Variable:</th>      <td>accidentes</td>    <th>  No. Observations:  </th>    <td>80</td>   \n",
              "</tr>\n",
              "<tr>\n",
              "  <th>Model:</th>            <td>ARIMA(6, 0, 0)</td>  <th>  Log Likelihood     </th> <td>-567.542</td>\n",
              "</tr>\n",
              "<tr>\n",
              "  <th>Date:</th>            <td>Fri, 09 Sep 2022</td> <th>  AIC                </th> <td>1151.085</td>\n",
              "</tr>\n",
              "<tr>\n",
              "  <th>Time:</th>                <td>20:01:24</td>     <th>  BIC                </th> <td>1170.141</td>\n",
              "</tr>\n",
              "<tr>\n",
              "  <th>Sample:</th>                  <td>0</td>        <th>  HQIC               </th> <td>1158.725</td>\n",
              "</tr>\n",
              "<tr>\n",
              "  <th></th>                       <td> - 80</td>      <th>                     </th>     <td> </td>   \n",
              "</tr>\n",
              "<tr>\n",
              "  <th>Covariance Type:</th>        <td>opg</td>       <th>                     </th>     <td> </td>   \n",
              "</tr>\n",
              "</table>\n",
              "<table class=\"simpletable\">\n",
              "<tr>\n",
              "     <td></td>       <th>coef</th>     <th>std err</th>      <th>z</th>      <th>P>|z|</th>  <th>[0.025</th>    <th>0.975]</th>  \n",
              "</tr>\n",
              "<tr>\n",
              "  <th>const</th>  <td> 2792.9875</td> <td>  115.428</td> <td>   24.197</td> <td> 0.000</td> <td> 2566.752</td> <td> 3019.223</td>\n",
              "</tr>\n",
              "<tr>\n",
              "  <th>ar.L1</th>  <td>    0.7021</td> <td>    0.092</td> <td>    7.643</td> <td> 0.000</td> <td>    0.522</td> <td>    0.882</td>\n",
              "</tr>\n",
              "<tr>\n",
              "  <th>ar.L2</th>  <td>    0.1012</td> <td>    0.174</td> <td>    0.582</td> <td> 0.561</td> <td>   -0.240</td> <td>    0.442</td>\n",
              "</tr>\n",
              "<tr>\n",
              "  <th>ar.L3</th>  <td>   -0.0704</td> <td>    0.164</td> <td>   -0.430</td> <td> 0.667</td> <td>   -0.392</td> <td>    0.251</td>\n",
              "</tr>\n",
              "<tr>\n",
              "  <th>ar.L4</th>  <td>   -0.0513</td> <td>    0.190</td> <td>   -0.270</td> <td> 0.787</td> <td>   -0.424</td> <td>    0.322</td>\n",
              "</tr>\n",
              "<tr>\n",
              "  <th>ar.L5</th>  <td>    0.2252</td> <td>    0.153</td> <td>    1.470</td> <td> 0.141</td> <td>   -0.075</td> <td>    0.525</td>\n",
              "</tr>\n",
              "<tr>\n",
              "  <th>ar.L6</th>  <td>   -0.2961</td> <td>    0.158</td> <td>   -1.879</td> <td> 0.060</td> <td>   -0.605</td> <td>    0.013</td>\n",
              "</tr>\n",
              "<tr>\n",
              "  <th>sigma2</th> <td> 8.627e+04</td> <td> 1.34e+04</td> <td>    6.452</td> <td> 0.000</td> <td> 6.01e+04</td> <td> 1.12e+05</td>\n",
              "</tr>\n",
              "</table>\n",
              "<table class=\"simpletable\">\n",
              "<tr>\n",
              "  <th>Ljung-Box (L1) (Q):</th>     <td>0.43</td> <th>  Jarque-Bera (JB):  </th> <td>80.83</td>\n",
              "</tr>\n",
              "<tr>\n",
              "  <th>Prob(Q):</th>                <td>0.51</td> <th>  Prob(JB):          </th> <td>0.00</td> \n",
              "</tr>\n",
              "<tr>\n",
              "  <th>Heteroskedasticity (H):</th> <td>3.89</td> <th>  Skew:              </th> <td>-1.50</td>\n",
              "</tr>\n",
              "<tr>\n",
              "  <th>Prob(H) (two-sided):</th>    <td>0.00</td> <th>  Kurtosis:          </th> <td>6.90</td> \n",
              "</tr>\n",
              "</table><br/><br/>Warnings:<br/>[1] Covariance matrix calculated using the outer product of gradients (complex-step)."
            ]
          },
          "metadata": {},
          "execution_count": 51
        }
      ],
      "source": [
        "ajuste1 = ARIMA(resum1.accidentes, order=(6,0,0))\n",
        "results1 = ajuste1.fit()\n",
        "results1.summary()"
      ]
    },
    {
      "cell_type": "code",
      "source": [
        "ARIMA(resum1.accidentes, order= (6,0,0)).fit().summary()"
      ],
      "metadata": {
        "colab": {
          "base_uri": "https://localhost:8080/",
          "height": 537
        },
        "id": "8uQuAvsJ19Ni",
        "outputId": "2d4ad2ca-2359-416f-9eeb-427149790b74"
      },
      "id": "8uQuAvsJ19Ni",
      "execution_count": null,
      "outputs": [
        {
          "output_type": "execute_result",
          "data": {
            "text/plain": [
              "<class 'statsmodels.iolib.summary.Summary'>\n",
              "\"\"\"\n",
              "                               SARIMAX Results                                \n",
              "==============================================================================\n",
              "Dep. Variable:             accidentes   No. Observations:                   80\n",
              "Model:                 ARIMA(6, 0, 0)   Log Likelihood                -567.542\n",
              "Date:                Fri, 09 Sep 2022   AIC                           1151.085\n",
              "Time:                        20:03:20   BIC                           1170.141\n",
              "Sample:                             0   HQIC                          1158.725\n",
              "                                 - 80                                         \n",
              "Covariance Type:                  opg                                         \n",
              "==============================================================================\n",
              "                 coef    std err          z      P>|z|      [0.025      0.975]\n",
              "------------------------------------------------------------------------------\n",
              "const       2792.9875    115.428     24.197      0.000    2566.752    3019.223\n",
              "ar.L1          0.7021      0.092      7.643      0.000       0.522       0.882\n",
              "ar.L2          0.1012      0.174      0.582      0.561      -0.240       0.442\n",
              "ar.L3         -0.0704      0.164     -0.430      0.667      -0.392       0.251\n",
              "ar.L4         -0.0513      0.190     -0.270      0.787      -0.424       0.322\n",
              "ar.L5          0.2252      0.153      1.470      0.141      -0.075       0.525\n",
              "ar.L6         -0.2961      0.158     -1.879      0.060      -0.605       0.013\n",
              "sigma2      8.627e+04   1.34e+04      6.452      0.000    6.01e+04    1.12e+05\n",
              "===================================================================================\n",
              "Ljung-Box (L1) (Q):                   0.43   Jarque-Bera (JB):                80.83\n",
              "Prob(Q):                              0.51   Prob(JB):                         0.00\n",
              "Heteroskedasticity (H):               3.89   Skew:                            -1.50\n",
              "Prob(H) (two-sided):                  0.00   Kurtosis:                         6.90\n",
              "===================================================================================\n",
              "\n",
              "Warnings:\n",
              "[1] Covariance matrix calculated using the outer product of gradients (complex-step).\n",
              "\"\"\""
            ],
            "text/html": [
              "<table class=\"simpletable\">\n",
              "<caption>SARIMAX Results</caption>\n",
              "<tr>\n",
              "  <th>Dep. Variable:</th>      <td>accidentes</td>    <th>  No. Observations:  </th>    <td>80</td>   \n",
              "</tr>\n",
              "<tr>\n",
              "  <th>Model:</th>            <td>ARIMA(6, 0, 0)</td>  <th>  Log Likelihood     </th> <td>-567.542</td>\n",
              "</tr>\n",
              "<tr>\n",
              "  <th>Date:</th>            <td>Fri, 09 Sep 2022</td> <th>  AIC                </th> <td>1151.085</td>\n",
              "</tr>\n",
              "<tr>\n",
              "  <th>Time:</th>                <td>20:03:20</td>     <th>  BIC                </th> <td>1170.141</td>\n",
              "</tr>\n",
              "<tr>\n",
              "  <th>Sample:</th>                  <td>0</td>        <th>  HQIC               </th> <td>1158.725</td>\n",
              "</tr>\n",
              "<tr>\n",
              "  <th></th>                       <td> - 80</td>      <th>                     </th>     <td> </td>   \n",
              "</tr>\n",
              "<tr>\n",
              "  <th>Covariance Type:</th>        <td>opg</td>       <th>                     </th>     <td> </td>   \n",
              "</tr>\n",
              "</table>\n",
              "<table class=\"simpletable\">\n",
              "<tr>\n",
              "     <td></td>       <th>coef</th>     <th>std err</th>      <th>z</th>      <th>P>|z|</th>  <th>[0.025</th>    <th>0.975]</th>  \n",
              "</tr>\n",
              "<tr>\n",
              "  <th>const</th>  <td> 2792.9875</td> <td>  115.428</td> <td>   24.197</td> <td> 0.000</td> <td> 2566.752</td> <td> 3019.223</td>\n",
              "</tr>\n",
              "<tr>\n",
              "  <th>ar.L1</th>  <td>    0.7021</td> <td>    0.092</td> <td>    7.643</td> <td> 0.000</td> <td>    0.522</td> <td>    0.882</td>\n",
              "</tr>\n",
              "<tr>\n",
              "  <th>ar.L2</th>  <td>    0.1012</td> <td>    0.174</td> <td>    0.582</td> <td> 0.561</td> <td>   -0.240</td> <td>    0.442</td>\n",
              "</tr>\n",
              "<tr>\n",
              "  <th>ar.L3</th>  <td>   -0.0704</td> <td>    0.164</td> <td>   -0.430</td> <td> 0.667</td> <td>   -0.392</td> <td>    0.251</td>\n",
              "</tr>\n",
              "<tr>\n",
              "  <th>ar.L4</th>  <td>   -0.0513</td> <td>    0.190</td> <td>   -0.270</td> <td> 0.787</td> <td>   -0.424</td> <td>    0.322</td>\n",
              "</tr>\n",
              "<tr>\n",
              "  <th>ar.L5</th>  <td>    0.2252</td> <td>    0.153</td> <td>    1.470</td> <td> 0.141</td> <td>   -0.075</td> <td>    0.525</td>\n",
              "</tr>\n",
              "<tr>\n",
              "  <th>ar.L6</th>  <td>   -0.2961</td> <td>    0.158</td> <td>   -1.879</td> <td> 0.060</td> <td>   -0.605</td> <td>    0.013</td>\n",
              "</tr>\n",
              "<tr>\n",
              "  <th>sigma2</th> <td> 8.627e+04</td> <td> 1.34e+04</td> <td>    6.452</td> <td> 0.000</td> <td> 6.01e+04</td> <td> 1.12e+05</td>\n",
              "</tr>\n",
              "</table>\n",
              "<table class=\"simpletable\">\n",
              "<tr>\n",
              "  <th>Ljung-Box (L1) (Q):</th>     <td>0.43</td> <th>  Jarque-Bera (JB):  </th> <td>80.83</td>\n",
              "</tr>\n",
              "<tr>\n",
              "  <th>Prob(Q):</th>                <td>0.51</td> <th>  Prob(JB):          </th> <td>0.00</td> \n",
              "</tr>\n",
              "<tr>\n",
              "  <th>Heteroskedasticity (H):</th> <td>3.89</td> <th>  Skew:              </th> <td>-1.50</td>\n",
              "</tr>\n",
              "<tr>\n",
              "  <th>Prob(H) (two-sided):</th>    <td>0.00</td> <th>  Kurtosis:          </th> <td>6.90</td> \n",
              "</tr>\n",
              "</table><br/><br/>Warnings:<br/>[1] Covariance matrix calculated using the outer product of gradients (complex-step)."
            ]
          },
          "metadata": {},
          "execution_count": 54
        }
      ]
    }
  ],
  "metadata": {
    "kernelspec": {
      "display_name": "Python 3 (ipykernel)",
      "language": "python",
      "name": "python3"
    },
    "language_info": {
      "codemirror_mode": {
        "name": "ipython",
        "version": 3
      },
      "file_extension": ".py",
      "mimetype": "text/x-python",
      "name": "python",
      "nbconvert_exporter": "python",
      "pygments_lexer": "ipython3",
      "version": "3.8.13"
    },
    "colab": {
      "provenance": []
    }
  },
  "nbformat": 4,
  "nbformat_minor": 5
}